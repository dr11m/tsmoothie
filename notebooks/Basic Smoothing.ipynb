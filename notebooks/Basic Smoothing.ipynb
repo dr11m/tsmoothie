{
 "cells": [
  {
   "cell_type": "markdown",
   "metadata": {},
   "source": [
    "## get data"
   ]
  },
  {
   "cell_type": "code",
   "execution_count": null,
   "metadata": {},
   "outputs": [],
   "source": [
    "# Перезапускаем среду выполнения и импортируем необходимые библиотеки\n",
    "import pandas as pd\n",
    "\n",
    "df = pd.read_csv(\"../data/normalized_without_outliers_25_55000.csv\")\n",
    "df.shape"
   ]
  },
  {
   "cell_type": "code",
   "execution_count": null,
   "metadata": {},
   "outputs": [],
   "source": [
    "import sys\n",
    "sys.path.append(\"../\")\n",
    "\n",
    "import numpy as np\n",
    "import matplotlib.pyplot as plt\n",
    "\n",
    "from tsmoothie.utils_func import sim_randomwalk\n",
    "from tsmoothie.smoother import *"
   ]
  },
  {
   "cell_type": "code",
   "execution_count": null,
   "metadata": {},
   "outputs": [],
   "source": [
    "# получить X\n",
    "import numpy as np\n",
    "\n",
    "\n",
    "X = df.loc[:, \"norm_price_1\":\"norm_price_25\"].values  # usual version without norm_floor_price\n",
    "X.shape"
   ]
  },
  {
   "cell_type": "markdown",
   "metadata": {},
   "source": [
    "## test different models"
   ]
  },
  {
   "cell_type": "markdown",
   "metadata": {},
   "source": [
    "## smooth functions"
   ]
  },
  {
   "cell_type": "code",
   "execution_count": 49,
   "metadata": {},
   "outputs": [],
   "source": [
    "def apply_exponential_smoother(prices, plt: plt) -> plt:\n",
    "    # operate smoothing\n",
    "    smoother = ExponentialSmoother(window_len=2, alpha=0.1)\n",
    "    smoother.smooth(prices)\n",
    "\n",
    "    # generate intervals\n",
    "    low, up = smoother.get_intervals('sigma_interval')\n",
    "\n",
    "    # plot the first smoothed timeseries with intervals\n",
    "    plt.plot(smoother.smooth_data[0], linewidth=3, label=\"ExponentialSmoother\", alpha=0.3)\n",
    "\n",
    "    return plt\n"
   ]
  },
  {
   "cell_type": "code",
   "execution_count": 50,
   "metadata": {},
   "outputs": [],
   "source": [
    "def apply_convolution_smoother(prices, plt: plt) -> plt:\n",
    "    # operate smoothing\n",
    "    smoother = ConvolutionSmoother(window_len=4, window_type='ones')\n",
    "    smoother.smooth(prices)\n",
    "\n",
    "    # generate intervals\n",
    "    low, up = smoother.get_intervals('sigma_interval')\n",
    "\n",
    "    # plot the first smoothed timeseries with intervals\n",
    "    plt.plot(smoother.smooth_data[0], linewidth=3, label=\"ConvolutionSmoother\", alpha=0.3)\n",
    "\n",
    "    return plt\n"
   ]
  },
  {
   "cell_type": "code",
   "execution_count": 51,
   "metadata": {},
   "outputs": [],
   "source": [
    "def apply_spectral_smoother(prices, plt: plt) -> plt:\n",
    "    # operate smoothing\n",
    "    smoother = SpectralSmoother(smooth_fraction=0.3, pad_len=20)\n",
    "    smoother.smooth(prices)\n",
    "\n",
    "    # generate intervals\n",
    "    low, up = smoother.get_intervals('sigma_interval')\n",
    "\n",
    "    # plot the first smoothed timeseries with intervals\n",
    "    plt.plot(smoother.smooth_data[0], linewidth=3, label=\"SpectralSmoother\", alpha=0.3)\n",
    "\n",
    "    return plt\n"
   ]
  },
  {
   "cell_type": "code",
   "execution_count": 52,
   "metadata": {},
   "outputs": [],
   "source": [
    "def apply_polynomial_smoother(prices, plt: plt) -> plt:\n",
    "    # operate smoothing\n",
    "    smoother = PolynomialSmoother(degree=6)\n",
    "    smoother.smooth(prices)\n",
    "\n",
    "    # generate intervals\n",
    "    low, up = smoother.get_intervals('prediction_interval')\n",
    "\n",
    "    # plot the first smoothed timeseries with intervals\n",
    "    plt.plot(smoother.smooth_data[0], linewidth=3, label=\"PolynomialSmoother\", alpha=0.3)\n",
    "\n",
    "    return plt\n"
   ]
  },
  {
   "cell_type": "code",
   "execution_count": 53,
   "metadata": {},
   "outputs": [],
   "source": [
    "def apply_spline_smoother(prices, plt: plt) -> plt:\n",
    "    # operate smoothing\n",
    "    smoother = SplineSmoother(n_knots=6, spline_type='natural_cubic_spline')\n",
    "    smoother.smooth(prices)\n",
    "\n",
    "    # generate intervals\n",
    "    low, up = smoother.get_intervals('prediction_interval')\n",
    "\n",
    "    # plot the first smoothed timeseries with intervals\n",
    "    plt.plot(smoother.smooth_data[0], linewidth=3, label=\"SplineSmoother\", alpha=0.3)\n",
    "\n",
    "    return plt\n"
   ]
  },
  {
   "cell_type": "code",
   "execution_count": 54,
   "metadata": {},
   "outputs": [],
   "source": [
    "def apply_gaussian_smoother(prices, plt: plt) -> plt:\n",
    "    # operate smoothing\n",
    "    smoother = GaussianSmoother(n_knots=5, sigma=0.7)\n",
    "    smoother.smooth(prices)\n",
    "\n",
    "    # generate intervals\n",
    "    low, up = smoother.get_intervals('prediction_interval')\n",
    "\n",
    "    # plot the first smoothed timeseries with intervals\n",
    "    plt.plot(smoother.smooth_data[0], linewidth=3, label=\"GaussianSmoother\", alpha=0.3)\n",
    "\n",
    "    return plt\n"
   ]
  },
  {
   "cell_type": "code",
   "execution_count": 55,
   "metadata": {},
   "outputs": [],
   "source": [
    "def apply_binner_smoother(prices, plt: plt) -> plt:\n",
    "    # operate smoothing\n",
    "    smoother = BinnerSmoother(n_knots=6)\n",
    "    smoother.smooth(prices)\n",
    "\n",
    "    # generate intervals\n",
    "    low, up = smoother.get_intervals('prediction_interval')\n",
    "\n",
    "    # plot the first smoothed timeseries with intervals\n",
    "    plt.plot(smoother.smooth_data[0], linewidth=3, label=\"BinnerSmoother\", alpha=0.3)\n",
    "\n",
    "    return plt\n"
   ]
  },
  {
   "cell_type": "code",
   "execution_count": 56,
   "metadata": {},
   "outputs": [],
   "source": [
    "def apply_lowess_smoother(prices, plt: plt) -> plt:\n",
    "    # operate smoothing\n",
    "    smoother = LowessSmoother(smooth_fraction=0.2, iterations=1)\n",
    "    smoother.smooth(prices)\n",
    "\n",
    "    # generate intervals\n",
    "    low, up = smoother.get_intervals('prediction_interval')\n",
    "\n",
    "    # plot the first smoothed timeseries with intervals\n",
    "    plt.plot(smoother.smooth_data[0], linewidth=3, label=\"LowessSmoother\", alpha=0.3)\n",
    "\n",
    "    return plt\n"
   ]
  },
  {
   "cell_type": "code",
   "execution_count": 57,
   "metadata": {},
   "outputs": [],
   "source": [
    "def apply_kalman_smoother(prices, plt: plt) -> plt:\n",
    "    # operate smoothing\n",
    "    smoother = KalmanSmoother(component='level_trend', \n",
    "                            component_noise={'level':0.1, 'trend':0.1})\n",
    "    smoother.smooth(prices)\n",
    "\n",
    "    # generate intervals\n",
    "    low, up = smoother.get_intervals('kalman_interval')\n",
    "\n",
    "    # plot the first smoothed timeseries with intervals\n",
    "    plt.plot(smoother.smooth_data[0], linewidth=3, label=\"LowessSmoother\", alpha=0.3)\n",
    "\n",
    "    return plt\n"
   ]
  },
  {
   "cell_type": "markdown",
   "metadata": {},
   "source": [
    "## test"
   ]
  },
  {
   "cell_type": "code",
   "execution_count": null,
   "metadata": {},
   "outputs": [],
   "source": [
    "for i in range(5):\n",
    "    prices = X[i]\n",
    "\n",
    "    fig = plt.figure(figsize=(15,7))\n",
    "    plt.plot(prices)\n",
    "    plt = apply_exponential_smoother(prices, plt)\n",
    "    plt = apply_convolution_smoother(prices, plt)\n",
    "    plt = apply_spectral_smoother(prices, plt)\n",
    "    plt = apply_polynomial_smoother(prices, plt)\n",
    "    plt = apply_spline_smoother(prices, plt)\n",
    "    plt = apply_gaussian_smoother(prices, plt)\n",
    "    plt = apply_binner_smoother(prices, plt)\n",
    "    plt = apply_lowess_smoother(prices, plt)\n",
    "    plt = apply_kalman_smoother(prices, plt)\n",
    "\n",
    "    plt.legend()\n",
    "    plt.show()"
   ]
  }
 ],
 "metadata": {
  "kernelspec": {
   "display_name": "Python 3",
   "language": "python",
   "name": "python3"
  },
  "language_info": {
   "codemirror_mode": {
    "name": "ipython",
    "version": 3
   },
   "file_extension": ".py",
   "mimetype": "text/x-python",
   "name": "python",
   "nbconvert_exporter": "python",
   "pygments_lexer": "ipython3",
   "version": "3.10.8"
  }
 },
 "nbformat": 4,
 "nbformat_minor": 2
}
