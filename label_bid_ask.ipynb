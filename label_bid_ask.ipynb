{
 "cells": [
  {
   "cell_type": "markdown",
   "metadata": {},
   "source": [
    "## get data"
   ]
  },
  {
   "cell_type": "code",
   "execution_count": 3,
   "metadata": {},
   "outputs": [
    {
     "data": {
      "text/plain": [
       "(55673, 78)"
      ]
     },
     "execution_count": 3,
     "metadata": {},
     "output_type": "execute_result"
    }
   ],
   "source": [
    "# Перезапускаем среду выполнения и импортируем необходимые библиотеки\n",
    "import pandas as pd\n",
    "\n",
    "df = pd.read_csv(\"data/normalized_without_outliers_25_55000.csv\")\n",
    "df.shape"
   ]
  },
  {
   "cell_type": "code",
   "execution_count": 16,
   "metadata": {},
   "outputs": [],
   "source": [
    "import numpy as np\n",
    "import matplotlib.pyplot as plt\n",
    "from typing import Tuple\n",
    "\n",
    "\n",
    "from tsmoothie.utils_func import sim_randomwalk\n",
    "from tsmoothie.smoother import *"
   ]
  },
  {
   "cell_type": "code",
   "execution_count": 13,
   "metadata": {},
   "outputs": [
    {
     "data": {
      "text/plain": [
       "(55673, 25)"
      ]
     },
     "execution_count": 13,
     "metadata": {},
     "output_type": "execute_result"
    }
   ],
   "source": [
    "# получить X\n",
    "import numpy as np\n",
    "\n",
    "\n",
    "X = df.loc[:, \"norm_price_1\":\"norm_price_25\"].values  # usual version without norm_floor_price\n",
    "X.shape"
   ]
  },
  {
   "cell_type": "markdown",
   "metadata": {},
   "source": [
    "## test different models"
   ]
  },
  {
   "cell_type": "markdown",
   "metadata": {},
   "source": [
    "## smooth functions"
   ]
  },
  {
   "cell_type": "code",
   "execution_count": 82,
   "metadata": {},
   "outputs": [],
   "source": [
    "def apply_exponential_smoother(prices: list[float], plt: plt, should_log_data: bool, should_plot=False) -> tuple[plt, list[float]]:\n",
    "    # operate smoothing\n",
    "    smoother = ExponentialSmoother(window_len=2, alpha=0.1)\n",
    "    smoother.smooth(prices)\n",
    "\n",
    "    # generate intervals\n",
    "    low, up = smoother.get_intervals('sigma_interval')\n",
    "    \n",
    "    if should_log_data:\n",
    "        print(f\"smoth data for ExponentialSmoother is {smoother.smooth_data[0]}\")\n",
    "\n",
    "    if should_plot:\n",
    "        # plot the first smoothed timeseries with intervals\n",
    "        plt.plot(smoother.smooth_data[0], linewidth=3, label=\"ExponentialSmoother\", alpha=0.3)\n",
    "\n",
    "    \n",
    "    return plt, smoother.smooth_data[0]\n",
    "\n"
   ]
  },
  {
   "cell_type": "code",
   "execution_count": 83,
   "metadata": {},
   "outputs": [],
   "source": [
    "def apply_convolution_smoother(prices: list[float], plt: plt, should_log_data: bool, should_plot=False) -> tuple[plt, list[float]]:\n",
    "    # operate smoothing\n",
    "    smoother = ConvolutionSmoother(window_len=4, window_type='ones')\n",
    "    smoother.smooth(prices)\n",
    "\n",
    "    # generate intervals\n",
    "    low, up = smoother.get_intervals('sigma_interval')\n",
    "    \n",
    "    if should_log_data:\n",
    "        print(f\"smoth data for ConvolutionSmoother is {smoother.smooth_data[0]}\")\n",
    "\n",
    "    if should_plot:\n",
    "        # plot the first smoothed timeseries with intervals\n",
    "        plt.plot(smoother.smooth_data[0], linewidth=3, label=\"ConvolutionSmoother\", alpha=0.3)\n",
    "\n",
    "    return plt, smoother.smooth_data[0] \n"
   ]
  },
  {
   "cell_type": "code",
   "execution_count": 84,
   "metadata": {},
   "outputs": [],
   "source": [
    "def apply_spectral_smoother(prices: list[float], plt: plt, should_log_data: bool, should_plot=False) -> tuple[plt, list[float]]:\n",
    "    # operate smoothing\n",
    "    smoother = SpectralSmoother(smooth_fraction=0.3, pad_len=20)\n",
    "    smoother.smooth(prices)\n",
    "\n",
    "    # generate intervals\n",
    "    low, up = smoother.get_intervals('sigma_interval')\n",
    "\n",
    "    if should_log_data:\n",
    "        print(f\"smoth data for SpectralSmoother is {smoother.smooth_data[0]}\")\n",
    "\n",
    "    if should_plot:\n",
    "        # plot the first smoothed timeseries with intervals\n",
    "        plt.plot(smoother.smooth_data[0], linewidth=3, label=\"SpectralSmoother\", alpha=0.3)\n",
    "    \n",
    "    \n",
    "    return plt, smoother.smooth_data[0]"
   ]
  },
  {
   "cell_type": "code",
   "execution_count": 85,
   "metadata": {},
   "outputs": [],
   "source": [
    "def apply_polynomial_smoother(prices: list[float], plt: plt, should_log_data: bool, should_plot=False) -> tuple[plt, list[float]]:\n",
    "    # operate smoothing\n",
    "    smoother = PolynomialSmoother(degree=6)\n",
    "    smoother.smooth(prices)\n",
    "\n",
    "    # generate intervals\n",
    "    low, up = smoother.get_intervals('prediction_interval')\n",
    "\n",
    "    if should_log_data:\n",
    "        print(f\"smoth data for PolynomialSmoother is {smoother.smooth_data[0]}\")\n",
    "\n",
    "    if should_plot:\n",
    "        # plot the first smoothed timeseries with intervals\n",
    "        plt.plot(smoother.smooth_data[0], linewidth=3, label=\"PolynomialSmoother\", alpha=0.3)\n",
    "    \n",
    "    return plt, smoother.smooth_data[0]"
   ]
  },
  {
   "cell_type": "code",
   "execution_count": 86,
   "metadata": {},
   "outputs": [],
   "source": [
    "def apply_spline_smoother(prices: list[float], plt: plt, should_log_data: bool, should_plot=False) -> tuple[plt, list[float]]:\n",
    "    # operate smoothing\n",
    "    smoother = SplineSmoother(n_knots=6, spline_type='natural_cubic_spline')\n",
    "    smoother.smooth(prices)\n",
    "\n",
    "    # generate intervals\n",
    "    low, up = smoother.get_intervals('prediction_interval')\n",
    "\n",
    "    if should_log_data:\n",
    "        print(f\"smoth data for SplineSmoother is {smoother.smooth_data[0]}\")\n",
    "\n",
    "    if should_plot:\n",
    "        # plot the first smoothed timeseries with intervals\n",
    "        plt.plot(smoother.smooth_data[0], linewidth=3, label=\"SplineSmoother\", alpha=0.3)\n",
    "\n",
    "\n",
    "    return plt, smoother.smooth_data[0]"
   ]
  },
  {
   "cell_type": "code",
   "execution_count": 87,
   "metadata": {},
   "outputs": [],
   "source": [
    "def apply_gaussian_smoother(prices: list[float], plt: plt, should_log_data: bool, should_plot=False) -> tuple[plt, list[float]]:\n",
    "    # operate smoothing\n",
    "    smoother = GaussianSmoother(n_knots=5, sigma=0.7)\n",
    "    smoother.smooth(prices)\n",
    "\n",
    "    # generate intervals\n",
    "    low, up = smoother.get_intervals('prediction_interval')\n",
    "\n",
    "    if should_log_data:\n",
    "        print(f\"smoth data for GaussianSmoother is {smoother.smooth_data[0]}\")\n",
    "\n",
    "    if should_plot:\n",
    "        # plot the first smoothed timeseries with intervals\n",
    "        plt.plot(smoother.smooth_data[0], linewidth=3, label=\"GaussianSmoother\", alpha=0.3)\n",
    "    \n",
    "    return plt, smoother.smooth_data[0]"
   ]
  },
  {
   "cell_type": "code",
   "execution_count": 88,
   "metadata": {},
   "outputs": [],
   "source": [
    "def apply_binner_smoother(prices: list[float], plt: plt, should_log_data: bool, should_plot=False) -> tuple[plt, list[float]]:\n",
    "    # operate smoothing\n",
    "    smoother = BinnerSmoother(n_knots=6)\n",
    "    smoother.smooth(prices)\n",
    "\n",
    "    # generate intervals\n",
    "    low, up = smoother.get_intervals('prediction_interval')\n",
    "    \n",
    "    if should_log_data:\n",
    "        print(f\"smoth data for BinnerSmoother is {smoother.smooth_data[0]}\")\n",
    "\n",
    "    if should_plot:\n",
    "        # plot the first smoothed timeseries with intervals\n",
    "        plt.plot(smoother.smooth_data[0], linewidth=3, label=\"BinnerSmoother\", alpha=0.3)\n",
    "\n",
    "    return plt, smoother.smooth_data[0]"
   ]
  },
  {
   "cell_type": "code",
   "execution_count": 89,
   "metadata": {},
   "outputs": [],
   "source": [
    "def apply_lowess_smoother(prices: list[float], plt: plt, should_log_data: bool, should_plot=False) -> tuple[plt, list[float]]:\n",
    "    # operate smoothing\n",
    "    smoother = LowessSmoother(smooth_fraction=0.2, iterations=1)\n",
    "    smoother.smooth(prices)\n",
    "\n",
    "    # generate intervals\n",
    "    low, up = smoother.get_intervals('prediction_interval')\n",
    "\n",
    "    if should_log_data:\n",
    "        print(f\"smoth data for LowessSmoother is {smoother.smooth_data[0]}\")\n",
    "\n",
    "    if should_plot:\n",
    "        # plot the first smoothed timeseries with intervals\n",
    "        plt.plot(smoother.smooth_data[0], linewidth=3, label=\"LowessSmoother\", alpha=0.3)\n",
    "\n",
    "    return plt, smoother.smooth_data[0]"
   ]
  },
  {
   "cell_type": "code",
   "execution_count": 90,
   "metadata": {},
   "outputs": [],
   "source": [
    "def apply_kalman_smoother(prices: list[float], plt: plt, should_log_data: bool, should_plot=False) -> tuple[plt, list[float]]:\n",
    "    # operate smoothing\n",
    "    smoother = KalmanSmoother(component='level_trend', \n",
    "                            component_noise={'level':0.1, 'trend':0.1})\n",
    "    smoother.smooth(prices)\n",
    "\n",
    "    # generate intervals\n",
    "    low, up = smoother.get_intervals('kalman_interval')\n",
    "\n",
    "    if should_log_data:\n",
    "        print(f\"smoth data for KalmanSmoother is {smoother.smooth_data[0]}\")\n",
    "\n",
    "    if should_plot:\n",
    "        # plot the first smoothed timeseries with intervals\n",
    "        plt.plot(smoother.smooth_data[0], linewidth=3, label=\"KalmanSmoother\", alpha=0.3)\n",
    "\n",
    "    return plt, smoother.smooth_data[0]"
   ]
  },
  {
   "cell_type": "markdown",
   "metadata": {},
   "source": [
    "## test"
   ]
  },
  {
   "cell_type": "code",
   "execution_count": null,
   "metadata": {},
   "outputs": [],
   "source": [
    "for i in range(5):\n",
    "    prices = X[i]\n",
    "\n",
    "    fig = plt.figure(figsize=(15,7))\n",
    "    plt.plot(prices)\n",
    "\n",
    "    should_log_data = False\n",
    "\n",
    "    smoothed_predicts_list = []  # списки предиктов каждого модуля заносятся сюда (9 списков, каждый - список предсказаний)\n",
    "    \n",
    "    plt, pred = apply_exponential_smoother(prices, plt, should_log_data=False)\n",
    "    smoothed_predicts_list.append(pred)\n",
    "    plt, pred = apply_convolution_smoother(prices, plt, should_log_data=False)\n",
    "    smoothed_predicts_list.append(pred)\n",
    "    plt, pred = apply_spectral_smoother(prices, plt, should_log_data=False)\n",
    "    smoothed_predicts_list.append(pred)\n",
    "    plt, pred = apply_polynomial_smoother(prices, plt, should_log_data=False)\n",
    "    smoothed_predicts_list.append(pred)\n",
    "    plt, pred = apply_spline_smoother(prices, plt, should_log_data=False)\n",
    "    smoothed_predicts_list.append(pred)\n",
    "    plt, pred = apply_gaussian_smoother(prices, plt, should_log_data=False)\n",
    "    smoothed_predicts_list.append(pred)\n",
    "    plt, pred = apply_binner_smoother(prices, plt, should_log_data=False)\n",
    "    smoothed_predicts_list.append(pred)\n",
    "    plt, pred = apply_lowess_smoother(prices, plt, should_log_data=False)\n",
    "    smoothed_predicts_list.append(pred)\n",
    "    plt, pred = apply_kalman_smoother(prices, plt, should_log_data=False)\n",
    "    smoothed_predicts_list.append(pred)\n",
    "\n",
    "    # не все возвращают полное кол-во значений, так как некоторые используют оконные функции\n",
    "    smoothed_predicts_list = [module_predict[:23] for module_predict in smoothed_predicts_list]\n",
    "    # Convert the list to a numpy array for easier manipulation\n",
    "    smoothed_data_array = np.array(smoothed_predicts_list)\n",
    "\n",
    "    # Calculate the mean excluding the largest and smallest values\n",
    "    mean_of_predicts_without_extremes = np.mean(np.partition(smoothed_data_array, (2, -2), axis=0)[2:-2], axis=0)\n",
    "\n",
    "    print(mean_of_predicts_without_extremes)\n",
    "\n",
    "    plt.scatter(range(len(mean_of_predicts_without_extremes)), mean_of_predicts_without_extremes, color=\"orange\")\n",
    "\n",
    "    plt.legend()\n",
    "    plt.show()\n",
    "\n",
    "    # отрисовка лейблов\n",
    "    fig = plt.figure(figsize=(15,7))\n",
    "\n",
    "    # если есть оконные функции, то надо сократить исходный временной ряд\n",
    "    shorted_prices = prices\n",
    "    labels = np.where(shorted_prices > mean_of_predicts_without_extremes, 0, 1)\n",
    "    plt.scatter(range(len(shorted_prices)), shorted_prices, c=labels, cmap='coolwarm', label='Price vs. Mean Predict')\n",
    "    \n",
    "    plt.plot(prices)\n",
    "    plt.plot(range(len(mean_of_predicts_without_extremes)), mean_of_predicts_without_extremes, color=\"orange\")\n",
    "    plt.show()\n",
    "\n"
   ]
  },
  {
   "cell_type": "markdown",
   "metadata": {},
   "source": [
    "## predictions using mean of all"
   ]
  },
  {
   "cell_type": "code",
   "execution_count": 91,
   "metadata": {},
   "outputs": [
    {
     "name": "stdout",
     "output_type": "stream",
     "text": [
      "[0.50089971 0.51017449 0.50718555 0.49595508 0.49989598 0.50840977\n",
      " 0.49992591 0.47913775 0.46027338 0.45042794 0.46463385 0.49928297\n",
      " 0.53615577 0.55584898 0.55355681 0.50636199 0.40842192 0.34481784\n",
      " 0.30883537 0.33089754 0.37267252 0.43598375 0.52784883 0.57187619\n",
      " 0.58938577]\n"
     ]
    },
    {
     "data": {
      "text/plain": [
       "array([0.50089971, 0.51017449, 0.50718555, 0.49595508, 0.49989598,\n",
       "       0.50840977, 0.49992591, 0.47913775, 0.46027338, 0.45042794,\n",
       "       0.46463385, 0.49928297, 0.53615577, 0.55584898, 0.55355681,\n",
       "       0.50636199, 0.40842192, 0.34481784, 0.30883537, 0.33089754,\n",
       "       0.37267252, 0.43598375, 0.52784883, 0.57187619, 0.58938577])"
      ]
     },
     "execution_count": 91,
     "metadata": {},
     "output_type": "execute_result"
    }
   ],
   "source": [
    "import matplotlib.pyplot as plt\n",
    "\n",
    "\n",
    "def get_smoothed_mean(prices, plt):\n",
    "\n",
    "    should_log_data = False\n",
    "\n",
    "    smoothed_predicts_list = []  # списки предиктов каждого модуля заносятся сюда (9 списков, каждый - список предсказаний)\n",
    "    \n",
    "    #plt, pred = apply_exponential_smoother(prices, plt, should_log_data=False)\n",
    "    #smoothed_predicts_list.append(pred)\n",
    "    plt, pred = apply_convolution_smoother(prices, plt, should_log_data=False)\n",
    "    smoothed_predicts_list.append(pred)\n",
    "    plt, pred = apply_spectral_smoother(prices, plt, should_log_data=False)\n",
    "    smoothed_predicts_list.append(pred)\n",
    "    plt, pred = apply_polynomial_smoother(prices, plt, should_log_data=False)\n",
    "    smoothed_predicts_list.append(pred)\n",
    "    plt, pred = apply_spline_smoother(prices, plt, should_log_data=False)\n",
    "    smoothed_predicts_list.append(pred)\n",
    "    plt, pred = apply_gaussian_smoother(prices, plt, should_log_data=False)\n",
    "    smoothed_predicts_list.append(pred)\n",
    "    plt, pred = apply_binner_smoother(prices, plt, should_log_data=False)\n",
    "    smoothed_predicts_list.append(pred)\n",
    "    plt, pred = apply_lowess_smoother(prices, plt, should_log_data=False)\n",
    "    smoothed_predicts_list.append(pred)\n",
    "    plt, pred = apply_kalman_smoother(prices, plt, should_log_data=False)\n",
    "    smoothed_predicts_list.append(pred)\n",
    "\n",
    "    # не все возвращают полное кол-во значений, так как некоторые используют оконные функции\n",
    "    smoothed_predicts_list = [module_predict for module_predict in smoothed_predicts_list]\n",
    "    # Convert the list to a numpy array for easier manipulation\n",
    "    smoothed_data_array = np.array(smoothed_predicts_list)\n",
    "\n",
    "    # Calculate the mean excluding the largest and smallest values\n",
    "    mean_of_predicts_without_extremes = np.mean(np.partition(smoothed_data_array, (2, -2), axis=0)[2:-2], axis=0)\n",
    "\n",
    "    print(mean_of_predicts_without_extremes)\n",
    "\n",
    "    return mean_of_predicts_without_extremes\n",
    "\n",
    "\n",
    "get_smoothed_mean(X[0], plt)"
   ]
  },
  {
   "cell_type": "code",
   "execution_count": 92,
   "metadata": {},
   "outputs": [],
   "source": [
    "import numpy as np\n",
    "import matplotlib.pyplot as plt\n",
    "from sklearn.linear_model import LinearRegression\n",
    "import ruptures as rpt\n",
    "from pydantic import BaseModel\n",
    "\n",
    "\n",
    "class Config(BaseModel):\n",
    "    model_type: str = \"pelt\"  # pelt or binseq\n",
    "    model_compute_error_type: str = \"l1\"\n",
    "    min_size: int = 3\n",
    "    penalty: float = 0.2\n",
    "    threshold: float\n",
    "    threshold_detrend_coeff: float\n",
    "\n",
    "\n",
    "def segment_timeseries_with_regression_and_full_detrended(ts_i, norm_prices, config: Config, should_plot=False):\n",
    "    if config.model_type == \"pelt\":\n",
    "        algo = rpt.Pelt(model=config.model_compute_error_type, min_size=config.min_size, jump=1).fit(norm_prices)\n",
    "    elif config.model_type == \"binseq\":\n",
    "        algo = rpt.Binseg(model=config.model_compute_error_type, min_size=config.min_size).fit(norm_prices)\n",
    "    else:\n",
    "        raise ValueError(\"Не смог распознать тип модели\")\n",
    "\n",
    "    def calculate_dynamic_threshold(segment, threshold_detrend_coeff):\n",
    "        std_dev = np.std(segment)\n",
    "        dynamic_threshold = std_dev * threshold_detrend_coeff\n",
    "        return dynamic_threshold\n",
    "\n",
    "    result = algo.predict(pen=config.penalty)\n",
    "    labels = np.zeros(len(norm_prices), dtype=int)\n",
    "\n",
    "    if should_plot:\n",
    "        plt.figure(figsize=(18, 8))\n",
    "\n",
    "    for (start, end) in zip([0] + result[:-1], result):\n",
    "        segment = norm_prices[start:end]\n",
    "\n",
    "        smothed_predictions = get_smoothed_mean(segment, plt)\n",
    "        \n",
    "        x = np.arange(start, end)\n",
    "        # Линейная регрессия для определения тренда\n",
    "        reg = LinearRegression().fit(x.reshape(-1, 1), segment)\n",
    "        trend = reg.predict(x.reshape(-1, 1))\n",
    "\n",
    "        # Убираем тренд из сегмента\n",
    "        detrended_segment = segment - trend\n",
    "        detrended_segment += abs(min(detrended_segment))\n",
    "        \n",
    "        # detrended regr\n",
    "        detrended_reg = LinearRegression().fit(x.reshape(-1, 1), detrended_segment)\n",
    "        detrended_predictions = detrended_reg.predict(x.reshape(-1, 1))\n",
    "\n",
    "        if should_plot:\n",
    "            plt.plot(x, smothed_predictions, color=\"orange\", label='Линейная регрессия для детрендированного сегмента')\n",
    "\n",
    "        dynamic_threshold = calculate_dynamic_threshold(segment, config.threshold_detrend_coeff)\n",
    "\n",
    "        labels[start:end] = np.where(smothed_predictions - segment > dynamic_threshold, 0, 1)\n",
    "\n",
    "        if should_plot:\n",
    "            plt.plot(x, segment, label='Исходный сегмент', alpha=0.5)\n",
    "            plt.plot(x, detrended_segment, label='Детрендированный сегмент')\n",
    "\n",
    "    if should_plot:\n",
    "        colors = ['lightblue', 'lightpink']\n",
    "        for index, (start, end) in enumerate(zip([0] + result[:-1], result)):\n",
    "            plt.fill_between(np.arange(start, end), norm_prices[start:end], color=colors[index % 2], alpha=0.2)\n",
    "        plt.title(f\"{ts_i} -- config: {config}\")\n",
    "        plt.legend()\n",
    "        plt.show()\n",
    "\n",
    "    return labels.tolist()\n"
   ]
  },
  {
   "cell_type": "code",
   "execution_count": 93,
   "metadata": {},
   "outputs": [
    {
     "ename": "TypeError",
     "evalue": "get_smoothed_mean() missing 1 required positional argument: 'plt'",
     "output_type": "error",
     "traceback": [
      "\u001b[1;31m---------------------------------------------------------------------------\u001b[0m",
      "\u001b[1;31mTypeError\u001b[0m                                 Traceback (most recent call last)",
      "Cell \u001b[1;32mIn[93], line 27\u001b[0m\n\u001b[0;32m     23\u001b[0m         \u001b[38;5;28;01mbreak\u001b[39;00m\n\u001b[0;32m     25\u001b[0m     norm_prices \u001b[38;5;241m=\u001b[39m np\u001b[38;5;241m.\u001b[39marray([df\u001b[38;5;241m.\u001b[39mat[i, \u001b[38;5;124mf\u001b[39m\u001b[38;5;124m'\u001b[39m\u001b[38;5;124mnorm_price_\u001b[39m\u001b[38;5;132;01m{\u001b[39;00mj\u001b[38;5;250m \u001b[39m\u001b[38;5;241m+\u001b[39m\u001b[38;5;250m \u001b[39m\u001b[38;5;241m1\u001b[39m\u001b[38;5;132;01m}\u001b[39;00m\u001b[38;5;124m'\u001b[39m] \u001b[38;5;28;01mfor\u001b[39;00m j \u001b[38;5;129;01min\u001b[39;00m \u001b[38;5;28mrange\u001b[39m(\u001b[38;5;241m25\u001b[39m)])\n\u001b[1;32m---> 27\u001b[0m     predicted_labels \u001b[38;5;241m=\u001b[39m \u001b[43msegment_timeseries_with_regression_and_full_detrended\u001b[49m\u001b[43m(\u001b[49m\u001b[43mi\u001b[49m\u001b[43m,\u001b[49m\u001b[43m \u001b[49m\u001b[43mnorm_prices\u001b[49m\u001b[43m,\u001b[49m\u001b[43m \u001b[49m\u001b[43mconfig\u001b[49m\u001b[43m,\u001b[49m\u001b[43m \u001b[49m\u001b[38;5;28;43;01mTrue\u001b[39;49;00m\u001b[43m)\u001b[49m\n\u001b[0;32m     28\u001b[0m     y_pred\u001b[38;5;241m.\u001b[39mappend(predicted_labels)\n\u001b[0;32m     31\u001b[0m \u001b[38;5;66;03m# accuracies = [accuracy_score(y_true[i], y_pred[i]) for i in range(len(y_pred))]\u001b[39;00m\n\u001b[0;32m     32\u001b[0m \n\u001b[0;32m     33\u001b[0m \u001b[38;5;66;03m# mean_accuracy = np.mean(accuracies)\u001b[39;00m\n\u001b[1;32m   (...)\u001b[0m\n\u001b[0;32m     39\u001b[0m \u001b[38;5;66;03m# print(sorted_accuracies[:10])\u001b[39;00m\n\u001b[0;32m     40\u001b[0m \u001b[38;5;66;03m# print(sorted_accuracies[-10:])\u001b[39;00m\n",
      "Cell \u001b[1;32mIn[92], line 39\u001b[0m, in \u001b[0;36msegment_timeseries_with_regression_and_full_detrended\u001b[1;34m(ts_i, norm_prices, config, should_plot)\u001b[0m\n\u001b[0;32m     36\u001b[0m \u001b[38;5;28;01mfor\u001b[39;00m (start, end) \u001b[38;5;129;01min\u001b[39;00m \u001b[38;5;28mzip\u001b[39m([\u001b[38;5;241m0\u001b[39m] \u001b[38;5;241m+\u001b[39m result[:\u001b[38;5;241m-\u001b[39m\u001b[38;5;241m1\u001b[39m], result):\n\u001b[0;32m     37\u001b[0m     segment \u001b[38;5;241m=\u001b[39m norm_prices[start:end]\n\u001b[1;32m---> 39\u001b[0m     smothed_predictions \u001b[38;5;241m=\u001b[39m \u001b[43mget_smoothed_mean\u001b[49m\u001b[43m(\u001b[49m\u001b[43msegment\u001b[49m\u001b[43m)\u001b[49m\n\u001b[0;32m     41\u001b[0m     x \u001b[38;5;241m=\u001b[39m np\u001b[38;5;241m.\u001b[39marange(start, end)\n\u001b[0;32m     42\u001b[0m     \u001b[38;5;66;03m# Линейная регрессия для определения тренда\u001b[39;00m\n",
      "\u001b[1;31mTypeError\u001b[0m: get_smoothed_mean() missing 1 required positional argument: 'plt'"
     ]
    },
    {
     "data": {
      "text/plain": [
       "<Figure size 1800x800 with 0 Axes>"
      ]
     },
     "metadata": {},
     "output_type": "display_data"
    }
   ],
   "source": [
    "from sklearn.metrics import accuracy_score\n",
    "\n",
    "index_for_plots = (1, 5) \n",
    "\n",
    "config_first_model = {\n",
    "    \"model_type\": \"pelt\", #pelt or binseq\n",
    "    \"model_compute_error_type\": \"l1\",\n",
    "    \"min_size\": 6,\n",
    "    \"penalty\": 0.7,\n",
    "    \"threshold\": 0.07,\n",
    "    \"threshold_detrend_coeff\": 0.4\n",
    "}\n",
    "\n",
    "config: Config = Config(**config_first_model)\n",
    "\n",
    "y_true = []\n",
    "y_pred = []\n",
    "\n",
    "for i in range(len(df)):\n",
    "    if i < index_for_plots[0]:\n",
    "        continue\n",
    "    if i > index_for_plots[1]:\n",
    "        break\n",
    "\n",
    "    norm_prices = np.array([df.at[i, f'norm_price_{j + 1}'] for j in range(25)])\n",
    "\n",
    "    predicted_labels = segment_timeseries_with_regression_and_full_detrended(i, norm_prices, config, True)\n",
    "    y_pred.append(predicted_labels)\n",
    "\n",
    "\n",
    "# accuracies = [accuracy_score(y_true[i], y_pred[i]) for i in range(len(y_pred))]\n",
    "\n",
    "# mean_accuracy = np.mean(accuracies)\n",
    "# std_deviation = np.std(accuracies)\n",
    "# print(mean_accuracy, std_deviation)\n",
    "\n",
    "# accuracies_with_i = [(accuracy_score(y_true[i], y_pred[i]), i) for i in range(len(y_pred))]\n",
    "# sorted_accuracies = sorted(accuracies_with_i, key=lambda x: x[0], reverse=True)\n",
    "# print(sorted_accuracies[:10])\n",
    "# print(sorted_accuracies[-10:])\n"
   ]
  }
 ],
 "metadata": {
  "kernelspec": {
   "display_name": "Python 3",
   "language": "python",
   "name": "python3"
  },
  "language_info": {
   "codemirror_mode": {
    "name": "ipython",
    "version": 3
   },
   "file_extension": ".py",
   "mimetype": "text/x-python",
   "name": "python",
   "nbconvert_exporter": "python",
   "pygments_lexer": "ipython3",
   "version": "3.10.8"
  }
 },
 "nbformat": 4,
 "nbformat_minor": 2
}
